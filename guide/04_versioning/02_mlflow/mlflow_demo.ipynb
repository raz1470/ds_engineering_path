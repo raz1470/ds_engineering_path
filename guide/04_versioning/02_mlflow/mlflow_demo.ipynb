{
 "cells": [
  {
   "cell_type": "code",
   "execution_count": 1,
   "metadata": {},
   "outputs": [],
   "source": [
    "import mlflow\n",
    "import warnings\n",
    "warnings.filterwarnings('ignore')\n",
    "from datetime import datetime\n",
    "import pandas as pd\n",
    "from sklearn.datasets import make_regression\n",
    "from sklearn.model_selection import train_test_split\n",
    "from sklearn.ensemble import RandomForestRegressor\n",
    "from sklearn.metrics import mean_squared_error\n",
    "import plotly.express as px"
   ]
  },
  {
   "cell_type": "code",
   "execution_count": 2,
   "metadata": {},
   "outputs": [],
   "source": [
    "# Set experiment details\n",
    "experiment_name = 'ryan.osullivan mlflow test'\n",
    "experiment_description = 'an experiment to showcase mlflow in action'"
   ]
  },
  {
   "cell_type": "code",
   "execution_count": 3,
   "metadata": {},
   "outputs": [
    {
     "data": {
      "text/plain": [
       "<Experiment: artifact_location='file:///c:/Users/ryan.sullivan/OneDrive%20-%20Entain%20Group/Documents/ryan/repo/a_data_scientists_guide_to_software_engineering/guide/04_versioning/02_mlflow/mlruns/624210934195793856', creation_time=1709726654205, experiment_id='624210934195793856', last_update_time=1709726654205, lifecycle_stage='active', name='ryan.osullivan mlflow test', tags={'mlflow.note.content': 'an experiment to showcase mlflow in action'}>"
      ]
     },
     "execution_count": 3,
     "metadata": {},
     "output_type": "execute_result"
    }
   ],
   "source": [
    "# Set the logging destination to the remote MLflow instance\n",
    "#mlflow.set_tracking_uri('https://xxx')\n",
    "\n",
    "# Only need to run this once for each project\n",
    "try:\n",
    "    mlflow.create_experiment(name=experiment_name, tags={'mlflow.note.content': experiment_description})\n",
    "    \n",
    "except mlflow.exceptions.RestException as e:\n",
    "    print('The experiment you were trying to create already exists. You can activate it directly using set_experiment())')\n",
    "\n",
    "mlflow.set_experiment(experiment_name=experiment_name)"
   ]
  },
  {
   "cell_type": "code",
   "execution_count": 4,
   "metadata": {},
   "outputs": [],
   "source": [
    "# Train model\n",
    "X, y = make_regression(n_samples=1000, n_features=5, noise=1, random_state=42)\n",
    "X = pd.DataFrame(X, columns =['x1', 'x2', 'x3', 'x4', 'x5'])\n",
    "y = pd.DataFrame(y, columns =['y'])\n",
    "X_train, X_test, y_train, y_test = train_test_split(X, y, random_state=42)\n",
    "rf = RandomForestRegressor(n_estimators=100, random_state=42)\n",
    "rf.fit(X_train, y_train)\n",
    "y_pred = rf.predict(X_test)\n",
    "mse = mean_squared_error(y_test, y_pred)\n",
    "fig = px.histogram(x=y_pred, title='The distribution of y_pred', width=800, height=400)"
   ]
  },
  {
   "cell_type": "code",
   "execution_count": 5,
   "metadata": {},
   "outputs": [],
   "source": [
    "# Set run details\n",
    "run_description = 'random forest model'\n",
    "run_date = datetime.now().strftime('%Y-%m-%d')\n",
    "run_time = datetime.now().strftime('%H:%M:%S')\n",
    "run_name = 'train/initial model'\n",
    "\n",
    "notebook_file_to_log = 'mlflow_demo.ipynb'\n",
    "notebook_file_folder_name = 'notebooks'\n",
    "plot_folder_nane = 'plots'\n",
    "model_folder_name = 'models'"
   ]
  },
  {
   "cell_type": "code",
   "execution_count": 7,
   "metadata": {},
   "outputs": [],
   "source": [
    "# Track run results\n",
    "with mlflow.start_run(description=run_description, \n",
    "                      tags={'Date': run_date, \n",
    "                            'Time': run_time},\n",
    "                      run_name=run_name):\n",
    "\n",
    "    # X train\n",
    "    X_train_mlflow_data = mlflow.data.from_pandas(X_train, name='X_train')\n",
    "    mlflow.log_input(X_train_mlflow_data)\n",
    "    \n",
    "    # y train\n",
    "    y_train_mlflow_data = mlflow.data.from_pandas(y_train, name='y_train')\n",
    "    mlflow.log_input(y_train_mlflow_data)\n",
    "    \n",
    "    # X test\n",
    "    X_test_mlflow_data = mlflow.data.from_pandas(X_test, name='X_test')\n",
    "    mlflow.log_input(X_test_mlflow_data)\n",
    "    \n",
    "    # y test\n",
    "    y_test_mlflow_data = mlflow.data.from_pandas(y_test, name='y_test')\n",
    "    mlflow.log_input(y_test_mlflow_data)\n",
    "    \n",
    "    # Jupyter notebooks\n",
    "    mlflow.log_artifact(local_path=notebook_file_to_log, artifact_path=notebook_file_folder_name)\n",
    "\n",
    "    # hyperparameters    \n",
    "    mlflow.log_params(rf.get_params())\n",
    "\n",
    "    # metrics\n",
    "    mlflow.log_metrics({'mse': mse})\n",
    "    \n",
    "    # plot\n",
    "    mlflow.log_figure(fig, artifact_file=f'{plot_folder_nane}/distribution_y_pred.html')\n",
    "\n",
    "    # model\n",
    "    signature = mlflow.models.infer_signature(X_test, rf.predict(X_test)) # infer the data type of input and output of the model, ensure consistency and reproducibility.\n",
    "    mlflow.sklearn.log_model(rf, artifact_path=model_folder_name, signature=signature)"
   ]
  }
 ],
 "metadata": {
  "kernelspec": {
   "display_name": "venv",
   "language": "python",
   "name": "python3"
  },
  "language_info": {
   "codemirror_mode": {
    "name": "ipython",
    "version": 3
   },
   "file_extension": ".py",
   "mimetype": "text/x-python",
   "name": "python",
   "nbconvert_exporter": "python",
   "pygments_lexer": "ipython3",
   "version": "3.11.4"
  }
 },
 "nbformat": 4,
 "nbformat_minor": 2
}
